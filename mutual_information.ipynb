{
 "cells": [
  {
   "cell_type": "code",
   "execution_count": 1,
   "id": "f50933ac-1267-4b28-8296-603c6956c283",
   "metadata": {},
   "outputs": [],
   "source": [
    "import numpy as np\n",
    "import pandas as pd\n",
    "import matplotlib.pyplot as plt"
   ]
  },
  {
   "cell_type": "code",
   "execution_count": 2,
   "id": "3bb6f544-191d-476f-8aa7-4d0c3f55acd8",
   "metadata": {},
   "outputs": [],
   "source": [
    "shrooms = pd.read_csv('mushrooms.csv')"
   ]
  },
  {
   "cell_type": "markdown",
   "id": "a11321bd-0de0-4473-9d76-f13f5e83f600",
   "metadata": {},
   "source": [
    "## Mutual information"
   ]
  },
  {
   "cell_type": "code",
   "execution_count": 3,
   "id": "8d2b5358-693c-4eb6-b972-d6c74e3e52a6",
   "metadata": {},
   "outputs": [
    {
     "data": {
      "text/html": [
       "<div>\n",
       "<style scoped>\n",
       "    .dataframe tbody tr th:only-of-type {\n",
       "        vertical-align: middle;\n",
       "    }\n",
       "\n",
       "    .dataframe tbody tr th {\n",
       "        vertical-align: top;\n",
       "    }\n",
       "\n",
       "    .dataframe thead th {\n",
       "        text-align: right;\n",
       "    }\n",
       "</style>\n",
       "<table border=\"1\" class=\"dataframe\">\n",
       "  <thead>\n",
       "    <tr style=\"text-align: right;\">\n",
       "      <th></th>\n",
       "      <th>class</th>\n",
       "      <th>cap-shape</th>\n",
       "      <th>cap-surface</th>\n",
       "      <th>cap-color</th>\n",
       "      <th>bruises</th>\n",
       "      <th>odor</th>\n",
       "      <th>gill-attachment</th>\n",
       "      <th>gill-spacing</th>\n",
       "      <th>gill-size</th>\n",
       "      <th>gill-color</th>\n",
       "      <th>...</th>\n",
       "      <th>stalk-surface-below-ring</th>\n",
       "      <th>stalk-color-above-ring</th>\n",
       "      <th>stalk-color-below-ring</th>\n",
       "      <th>veil-type</th>\n",
       "      <th>veil-color</th>\n",
       "      <th>ring-number</th>\n",
       "      <th>ring-type</th>\n",
       "      <th>spore-print-color</th>\n",
       "      <th>population</th>\n",
       "      <th>habitat</th>\n",
       "    </tr>\n",
       "  </thead>\n",
       "  <tbody>\n",
       "    <tr>\n",
       "      <th>0</th>\n",
       "      <td>p</td>\n",
       "      <td>x</td>\n",
       "      <td>s</td>\n",
       "      <td>n</td>\n",
       "      <td>t</td>\n",
       "      <td>p</td>\n",
       "      <td>f</td>\n",
       "      <td>c</td>\n",
       "      <td>n</td>\n",
       "      <td>k</td>\n",
       "      <td>...</td>\n",
       "      <td>s</td>\n",
       "      <td>w</td>\n",
       "      <td>w</td>\n",
       "      <td>p</td>\n",
       "      <td>w</td>\n",
       "      <td>o</td>\n",
       "      <td>p</td>\n",
       "      <td>k</td>\n",
       "      <td>s</td>\n",
       "      <td>u</td>\n",
       "    </tr>\n",
       "    <tr>\n",
       "      <th>1</th>\n",
       "      <td>e</td>\n",
       "      <td>x</td>\n",
       "      <td>s</td>\n",
       "      <td>y</td>\n",
       "      <td>t</td>\n",
       "      <td>a</td>\n",
       "      <td>f</td>\n",
       "      <td>c</td>\n",
       "      <td>b</td>\n",
       "      <td>k</td>\n",
       "      <td>...</td>\n",
       "      <td>s</td>\n",
       "      <td>w</td>\n",
       "      <td>w</td>\n",
       "      <td>p</td>\n",
       "      <td>w</td>\n",
       "      <td>o</td>\n",
       "      <td>p</td>\n",
       "      <td>n</td>\n",
       "      <td>n</td>\n",
       "      <td>g</td>\n",
       "    </tr>\n",
       "    <tr>\n",
       "      <th>2</th>\n",
       "      <td>e</td>\n",
       "      <td>b</td>\n",
       "      <td>s</td>\n",
       "      <td>w</td>\n",
       "      <td>t</td>\n",
       "      <td>l</td>\n",
       "      <td>f</td>\n",
       "      <td>c</td>\n",
       "      <td>b</td>\n",
       "      <td>n</td>\n",
       "      <td>...</td>\n",
       "      <td>s</td>\n",
       "      <td>w</td>\n",
       "      <td>w</td>\n",
       "      <td>p</td>\n",
       "      <td>w</td>\n",
       "      <td>o</td>\n",
       "      <td>p</td>\n",
       "      <td>n</td>\n",
       "      <td>n</td>\n",
       "      <td>m</td>\n",
       "    </tr>\n",
       "    <tr>\n",
       "      <th>3</th>\n",
       "      <td>p</td>\n",
       "      <td>x</td>\n",
       "      <td>y</td>\n",
       "      <td>w</td>\n",
       "      <td>t</td>\n",
       "      <td>p</td>\n",
       "      <td>f</td>\n",
       "      <td>c</td>\n",
       "      <td>n</td>\n",
       "      <td>n</td>\n",
       "      <td>...</td>\n",
       "      <td>s</td>\n",
       "      <td>w</td>\n",
       "      <td>w</td>\n",
       "      <td>p</td>\n",
       "      <td>w</td>\n",
       "      <td>o</td>\n",
       "      <td>p</td>\n",
       "      <td>k</td>\n",
       "      <td>s</td>\n",
       "      <td>u</td>\n",
       "    </tr>\n",
       "    <tr>\n",
       "      <th>4</th>\n",
       "      <td>e</td>\n",
       "      <td>x</td>\n",
       "      <td>s</td>\n",
       "      <td>g</td>\n",
       "      <td>f</td>\n",
       "      <td>n</td>\n",
       "      <td>f</td>\n",
       "      <td>w</td>\n",
       "      <td>b</td>\n",
       "      <td>k</td>\n",
       "      <td>...</td>\n",
       "      <td>s</td>\n",
       "      <td>w</td>\n",
       "      <td>w</td>\n",
       "      <td>p</td>\n",
       "      <td>w</td>\n",
       "      <td>o</td>\n",
       "      <td>e</td>\n",
       "      <td>n</td>\n",
       "      <td>a</td>\n",
       "      <td>g</td>\n",
       "    </tr>\n",
       "  </tbody>\n",
       "</table>\n",
       "<p>5 rows × 23 columns</p>\n",
       "</div>"
      ],
      "text/plain": [
       "  class cap-shape cap-surface cap-color bruises odor gill-attachment  \\\n",
       "0     p         x           s         n       t    p               f   \n",
       "1     e         x           s         y       t    a               f   \n",
       "2     e         b           s         w       t    l               f   \n",
       "3     p         x           y         w       t    p               f   \n",
       "4     e         x           s         g       f    n               f   \n",
       "\n",
       "  gill-spacing gill-size gill-color  ... stalk-surface-below-ring  \\\n",
       "0            c         n          k  ...                        s   \n",
       "1            c         b          k  ...                        s   \n",
       "2            c         b          n  ...                        s   \n",
       "3            c         n          n  ...                        s   \n",
       "4            w         b          k  ...                        s   \n",
       "\n",
       "  stalk-color-above-ring stalk-color-below-ring veil-type veil-color  \\\n",
       "0                      w                      w         p          w   \n",
       "1                      w                      w         p          w   \n",
       "2                      w                      w         p          w   \n",
       "3                      w                      w         p          w   \n",
       "4                      w                      w         p          w   \n",
       "\n",
       "  ring-number ring-type spore-print-color population habitat  \n",
       "0           o         p                 k          s       u  \n",
       "1           o         p                 n          n       g  \n",
       "2           o         p                 n          n       m  \n",
       "3           o         p                 k          s       u  \n",
       "4           o         e                 n          a       g  \n",
       "\n",
       "[5 rows x 23 columns]"
      ]
     },
     "execution_count": 3,
     "metadata": {},
     "output_type": "execute_result"
    }
   ],
   "source": [
    "shrooms.head()"
   ]
  },
  {
   "cell_type": "code",
   "execution_count": 4,
   "id": "d0c836d4-97d2-47f2-831e-64b04c43710f",
   "metadata": {},
   "outputs": [],
   "source": [
    "# homemade non-efficient, non-vectorized implementation from the formula\n",
    "# mutual_info = sum_x sum_y  p(x, y)*log( p(x,y) / (p(x) * p(y)) )\n",
    "def mutual_information(col1, col2):\n",
    "    if ~isinstance(col1, pd.Series):\n",
    "        col1 = pd.Series(col1)\n",
    "    if ~isinstance(col2, pd.Series):\n",
    "        col2 = pd.Series(col2)\n",
    "\n",
    "    N = len(col1)\n",
    "    mutual_info = 0\n",
    "    for x in col1.unique():\n",
    "        nx = (col1 == x).sum()\n",
    "        for y in col2.unique():\n",
    "            ny = (col2 == y).sum()\n",
    "            \n",
    "            nxy = ((col1 == x) & (col2 == y)).sum()\n",
    "            \n",
    "            # the if statement takes care of the fact that x*log(x) -> 0 when x -> 0\n",
    "            mutual_info += 0 if nxy == 0 else nxy/N * np.log(N * nxy/(nx*ny))           \n",
    "    return mutual_info"
   ]
  },
  {
   "cell_type": "code",
   "execution_count": 5,
   "id": "136f8578-4336-43a1-81b2-b039711c01e9",
   "metadata": {},
   "outputs": [
    {
     "data": {
      "text/plain": [
       "0.6280433159496358"
      ]
     },
     "execution_count": 5,
     "metadata": {},
     "output_type": "execute_result"
    }
   ],
   "source": [
    "mutual_information(shrooms['odor'], shrooms['class'])"
   ]
  },
  {
   "cell_type": "code",
   "execution_count": 6,
   "id": "4f51f7d2-98e6-4e6a-a884-cbeb7e12c4c9",
   "metadata": {},
   "outputs": [
    {
     "data": {
      "text/plain": [
       "veil-type                   0.000000\n",
       "stalk-shape                 0.005210\n",
       "gill-attachment             0.009818\n",
       "veil-color                  0.016509\n",
       "cap-surface                 0.019817\n",
       "cap-color                   0.024987\n",
       "ring-number                 0.026653\n",
       "cap-shape                   0.033823\n",
       "gill-spacing                0.069927\n",
       "stalk-root                  0.093448\n",
       "habitat                     0.108709\n",
       "bruises                     0.133347\n",
       "population                  0.139987\n",
       "gill-size                   0.159531\n",
       "stalk-color-below-ring      0.167337\n",
       "stalk-color-above-ring      0.175952\n",
       "stalk-surface-below-ring    0.188463\n",
       "stalk-surface-above-ring    0.197357\n",
       "ring-type                   0.220436\n",
       "gill-color                  0.289027\n",
       "spore-print-color           0.333199\n",
       "odor                        0.628043\n",
       "class                       0.692501\n",
       "dtype: float64"
      ]
     },
     "execution_count": 6,
     "metadata": {},
     "output_type": "execute_result"
    }
   ],
   "source": [
    "shrooms.apply(lambda c: mutual_information(c, shrooms['class']), axis=0).sort_values()"
   ]
  },
  {
   "cell_type": "markdown",
   "id": "4ac7fa66-6aa4-443d-8d2a-0f4bb23697d1",
   "metadata": {},
   "source": [
    "#### Mutual information experiments"
   ]
  },
  {
   "cell_type": "code",
   "execution_count": 7,
   "id": "497b990f-129b-4438-9766-1f77d83d7642",
   "metadata": {},
   "outputs": [],
   "source": [
    "# Let's compare it to a normalized correlation\n",
    "def ncorr(v1, v2):\n",
    "    return np.correlate(v1, v2)/(np.linalg.norm(v1)*np.linalg.norm(v2))"
   ]
  },
  {
   "cell_type": "code",
   "execution_count": 9,
   "id": "af383d92-1374-47da-bf7a-589286b7d652",
   "metadata": {},
   "outputs": [],
   "source": [
    "t = np.linspace(0, 2*np.pi-0.01, 50)"
   ]
  },
  {
   "cell_type": "code",
   "execution_count": 10,
   "id": "61fc5322-bb80-4fbb-b91a-a0ada20242d9",
   "metadata": {},
   "outputs": [
    {
     "data": {
      "image/png": "[encoded data removed]",
      "text/plain": [
       "<Figure size 500x200 with 2 Axes>"
      ]
     },
     "metadata": {},
     "output_type": "display_data"
    }
   ],
   "source": [
    "fig, (ax1, ax2) = plt.subplots(1, 2, figsize=(5,2))\n",
    "ax1.plot(t, 2*t)\n",
    "ax1.set_xlim([0,  2*np.pi]);\n",
    "ax1.set_ylim([0, 2*np.pi]);\n",
    "ax2.plot(t,-t)\n",
    "ax2.set_xlim([0,  2*np.pi]);\n",
    "ax2.set_ylim([-2*np.pi, 0]);"
   ]
  },
  {
   "cell_type": "code",
   "execution_count": 11,
   "id": "e121b841-61c3-4365-a06f-315448e09b31",
   "metadata": {},
   "outputs": [
    {
     "name": "stdout",
     "output_type": "stream",
     "text": [
      "Correlation between t and 2t:    1.00\n",
      "Correlation between t and -t:    -1.00\n",
      "\n",
      "Mutual information in t and 2t:    3.91\n",
      "Mutual information in t and -t:    3.91\n"
     ]
    }
   ],
   "source": [
    "print(f'Correlation between t and 2t:    {ncorr(t, 2*t)[0]:.2f}')\n",
    "print(f'Correlation between t and -t:    {ncorr(t, -t)[0]:.2f}')\n",
    "print()\n",
    "print(f'Mutual information in t and 2t:    {mutual_information(t, 2*t):.2f}')\n",
    "print(f'Mutual information in t and -t:    {mutual_information(t, -t):.2f}')"
   ]
  },
  {
   "cell_type": "code",
   "execution_count": 12,
   "id": "b747dcf2-fd9d-45c2-97cb-53c3b78ab43a",
   "metadata": {},
   "outputs": [],
   "source": [
    "# Let's make x and y on a circle\n",
    "x = np.cos(t)\n",
    "y = np.sin(t)"
   ]
  },
  {
   "cell_type": "code",
   "execution_count": 13,
   "id": "32c9668b-a0e4-44a6-90f0-e582182c7531",
   "metadata": {},
   "outputs": [
    {
     "data": {
      "text/plain": [
       "[<matplotlib.lines.Line2D at 0x1a3bf7a5dc0>]"
      ]
     },
     "execution_count": 13,
     "metadata": {},
     "output_type": "execute_result"
    },
    {
     "data": {
      "image/png": "[encoded data removed]",
      "text/plain": [
       "<Figure size 640x480 with 1 Axes>"
      ]
     },
     "metadata": {},
     "output_type": "display_data"
    }
   ],
   "source": [
    "plt.plot(x, y)\n",
    "plt.axis('square');\n",
    "plt.plot([-1.25, 1.25], [0, 0], 'k')\n",
    "plt.plot([0, 0], [-1.25, 1.25], 'k')"
   ]
  },
  {
   "cell_type": "code",
   "execution_count": 14,
   "id": "d32b98eb-c7b5-4d75-ada9-30f1a2286766",
   "metadata": {},
   "outputs": [
    {
     "name": "stdout",
     "output_type": "stream",
     "text": [
      "Correlation between cos(t) and itself:    1.00\n",
      "Correlation between cos(t) and sin(t):    -0.00\n",
      "\n",
      "Mutual information in cos(t) and itself:    3.91\n",
      "Mutual information in cos(t) and sin(t):    3.91\n"
     ]
    }
   ],
   "source": [
    "print(f'Correlation between cos(t) and itself:    {ncorr(x, x)[0]:.2f}')\n",
    "print(f'Correlation between cos(t) and sin(t):    {ncorr(x, y)[0]:.2f}')\n",
    "print()\n",
    "print(f'Mutual information in cos(t) and itself:    {mutual_information(x, x):.2f}')\n",
    "print(f'Mutual information in cos(t) and sin(t):    {mutual_information(x, y):.2f}')"
   ]
  },
  {
   "cell_type": "markdown",
   "id": "2e13bb43-65c7-4cc0-a797-edd5ad530731",
   "metadata": {},
   "source": [
    "### There are methods in sklearn for it, of course"
   ]
  },
  {
   "cell_type": "code",
   "execution_count": 15,
   "id": "84968aa1-4164-4bf2-9e0d-06dc906ff0b3",
   "metadata": {},
   "outputs": [],
   "source": [
    "from sklearn.metrics.cluster import normalized_mutual_info_score, mutual_info_score, adjusted_mutual_info_score"
   ]
  },
  {
   "cell_type": "code",
   "execution_count": 16,
   "id": "27086f83-faaf-43bb-846b-c9ae449da269",
   "metadata": {},
   "outputs": [],
   "source": [
    "xbin = pd.cut(x*3 + x**2 - np.exp(x), bins=500, labels=False)\n",
    "ybin = pd.cut(y, bins=500, labels=False)"
   ]
  },
  {
   "cell_type": "code",
   "execution_count": 17,
   "id": "ec7f946a-491e-4990-a772-67bbd217b13d",
   "metadata": {},
   "outputs": [
    {
     "data": {
      "text/plain": [
       "0.9745632888700658"
      ]
     },
     "execution_count": 17,
     "metadata": {},
     "output_type": "execute_result"
    }
   ],
   "source": [
    "normalized_mutual_info_score(xbin, ybin)"
   ]
  },
  {
   "cell_type": "markdown",
   "id": "d4ccacd0-a2f1-4c3b-bd03-b0cacd295ab3",
   "metadata": {},
   "source": [
    "### Made for categorical"
   ]
  },
  {
   "cell_type": "code",
   "execution_count": 18,
   "id": "875361de-da40-4de9-b91b-6154e72ad054",
   "metadata": {},
   "outputs": [
    {
     "data": {
      "text/plain": [
       "veil-type                   0.000000\n",
       "stalk-shape                 0.005210\n",
       "gill-attachment             0.009818\n",
       "veil-color                  0.016509\n",
       "cap-surface                 0.019817\n",
       "cap-color                   0.024987\n",
       "ring-number                 0.026653\n",
       "cap-shape                   0.033823\n",
       "gill-spacing                0.069927\n",
       "stalk-root                  0.093448\n",
       "habitat                     0.108709\n",
       "bruises                     0.133347\n",
       "population                  0.139987\n",
       "gill-size                   0.159531\n",
       "stalk-color-below-ring      0.167337\n",
       "stalk-color-above-ring      0.175952\n",
       "stalk-surface-below-ring    0.188463\n",
       "stalk-surface-above-ring    0.197357\n",
       "ring-type                   0.220436\n",
       "gill-color                  0.289027\n",
       "spore-print-color           0.333199\n",
       "odor                        0.628043\n",
       "class                       0.692501\n",
       "dtype: float64"
      ]
     },
     "execution_count": 18,
     "metadata": {},
     "output_type": "execute_result"
    }
   ],
   "source": [
    "shrooms.apply(lambda c: mutual_information(c, shrooms['class']), axis=0).sort_values()"
   ]
  },
  {
   "cell_type": "code",
   "execution_count": 19,
   "id": "38fb6872-6a10-47db-b619-d789c7031e08",
   "metadata": {},
   "outputs": [
    {
     "data": {
      "text/plain": [
       "veil-type                   0.000000\n",
       "stalk-shape                 0.007570\n",
       "cap-color                   0.020546\n",
       "cap-surface                 0.022210\n",
       "gill-attachment             0.024168\n",
       "cap-shape                   0.036801\n",
       "veil-color                  0.039851\n",
       "ring-number                 0.054168\n",
       "stalk-root                  0.095548\n",
       "habitat                     0.095811\n",
       "gill-spacing                0.123258\n",
       "population                  0.134528\n",
       "stalk-color-below-ring      0.162175\n",
       "stalk-color-above-ring      0.172926\n",
       "bruises                     0.194480\n",
       "gill-color                  0.206962\n",
       "stalk-surface-below-ring    0.226749\n",
       "gill-size                   0.243379\n",
       "ring-type                   0.250985\n",
       "stalk-surface-above-ring    0.256462\n",
       "spore-print-color           0.300225\n",
       "odor                        0.546078\n",
       "class                       1.000000\n",
       "dtype: float64"
      ]
     },
     "execution_count": 19,
     "metadata": {},
     "output_type": "execute_result"
    }
   ],
   "source": [
    "shrooms.apply(lambda c: normalized_mutual_info_score(c, shrooms['class']), axis=0).sort_values()"
   ]
  },
  {
   "cell_type": "code",
   "execution_count": 20,
   "id": "a17a0d02-43d6-4120-9bd8-d0d86a9982f2",
   "metadata": {},
   "outputs": [
    {
     "data": {
      "text/plain": [
       "veil-type                   0.000000\n",
       "stalk-shape                 0.005210\n",
       "gill-attachment             0.009818\n",
       "veil-color                  0.016509\n",
       "cap-surface                 0.019817\n",
       "cap-color                   0.024987\n",
       "ring-number                 0.026653\n",
       "cap-shape                   0.033823\n",
       "gill-spacing                0.069927\n",
       "stalk-root                  0.093448\n",
       "habitat                     0.108709\n",
       "bruises                     0.133347\n",
       "population                  0.139987\n",
       "gill-size                   0.159531\n",
       "stalk-color-below-ring      0.167337\n",
       "stalk-color-above-ring      0.175952\n",
       "stalk-surface-below-ring    0.188463\n",
       "stalk-surface-above-ring    0.197357\n",
       "ring-type                   0.220436\n",
       "gill-color                  0.289027\n",
       "spore-print-color           0.333199\n",
       "odor                        0.628043\n",
       "class                       0.692501\n",
       "dtype: float64"
      ]
     },
     "execution_count": 20,
     "metadata": {},
     "output_type": "execute_result"
    }
   ],
   "source": [
    "shrooms.apply(lambda c: mutual_info_score(c, shrooms['class']), axis=0).sort_values()"
   ]
  },
  {
   "cell_type": "code",
   "execution_count": null,
   "id": "d25976bc-79fd-4180-9a27-6b75f5fbd3ef",
   "metadata": {},
   "outputs": [],
   "source": []
  }
 ],
 "metadata": {
  "kernelspec": {
   "display_name": "Python 3 (ipykernel)",
   "language": "python",
   "name": "python3"
  },
  "language_info": {
   "codemirror_mode": {
    "name": "ipython",
    "version": 3
   },
   "file_extension": ".py",
   "mimetype": "text/x-python",
   "name": "python",
   "nbconvert_exporter": "python",
   "pygments_lexer": "ipython3",
   "version": "3.9.15"
  }
 },
 "nbformat": 4,
 "nbformat_minor": 5
}
